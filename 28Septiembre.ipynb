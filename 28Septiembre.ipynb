{
  "nbformat": 4,
  "nbformat_minor": 0,
  "metadata": {
    "colab": {
      "name": "Untitled0.ipynb",
      "provenance": [],
      "authorship_tag": "ABX9TyP751Ngbz7yPnv7KVTmKVlk",
      "include_colab_link": true
    },
    "kernelspec": {
      "name": "python3",
      "display_name": "Python 3"
    }
  },
  "cells": [
    {
      "cell_type": "markdown",
      "metadata": {
        "id": "view-in-github",
        "colab_type": "text"
      },
      "source": [
        "<a href=\"https://colab.research.google.com/github/Mariowr19/Codigo28-09-2020/blob/master/28Septiembre.ipynb\" target=\"_parent\"><img src=\"https://colab.research.google.com/assets/colab-badge.svg\" alt=\"Open In Colab\"/></a>"
      ]
    },
    {
      "cell_type": "code",
      "metadata": {
        "id": "dR-uH9oVrcsE"
      },
      "source": [
        "class silla (object):\n",
        "  def _init_(self):\n",
        "     self.material = \"\"\n",
        "     self.color = \"\"\n",
        "  def to_string (self):\n",
        "   print (\"----_\")\n",
        "   print (f\" material: {self.material } \" )\n",
        "   print (f\" {self.color} -----------\" )\n",
        "  "
      ],
      "execution_count": 1,
      "outputs": []
    },
    {
      "cell_type": "code",
      "metadata": {
        "id": "xoqtuL0grdlD",
        "outputId": "aae25a91-ca51-4397-ef92-e19aef7f5a37",
        "colab": {
          "base_uri": "https://localhost:8080/",
          "height": 68
        }
      },
      "source": [
        "obj = silla()\n",
        "obj.material = \"Acero\"\n",
        "obj.color = \"Azul\"\n",
        "obj.to_string()"
      ],
      "execution_count": 2,
      "outputs": [
        {
          "output_type": "stream",
          "text": [
            "----_\n",
            " material: Acero \n",
            " Azul -----------\n"
          ],
          "name": "stdout"
        }
      ]
    }
  ]
}